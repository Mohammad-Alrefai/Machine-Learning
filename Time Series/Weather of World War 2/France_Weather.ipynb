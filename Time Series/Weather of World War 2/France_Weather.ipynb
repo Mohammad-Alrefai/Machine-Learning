{
  "nbformat": 4,
  "nbformat_minor": 0,
  "metadata": {
    "colab": {
      "name": "France Weather.ipynb",
      "provenance": [],
      "collapsed_sections": []
    },
    "kernelspec": {
      "name": "python3",
      "display_name": "Python 3"
    }
  },
  "cells": [
    {
      "cell_type": "code",
      "metadata": {
        "id": "OY48We_HDa0C",
        "colab_type": "code",
        "colab": {}
      },
      "source": [
        "import pandas as pd\n",
        "import numpy as np\n",
        "from sklearn.model_selection import train_test_split,learning_curve\n",
        "from sklearn.metrics import r2_score,mean_absolute_error,mean_squared_error,mean_squared_log_error\n",
        "from sklearn.preprocessing import LabelEncoder\n",
        "import xgboost\n",
        "import matplotlib.pyplot as plt\n",
        "import seaborn as sns\n",
        "from yellowbrick.model_selection import ValidationCurve\n",
        "from yellowbrick.regressor import PredictionError\n",
        "import pickle"
      ],
      "execution_count": null,
      "outputs": []
    },
    {
      "cell_type": "code",
      "metadata": {
        "id": "Xp_zFyz5SfCH",
        "colab_type": "code",
        "colab": {}
      },
      "source": [
        "data = pd.read_csv('/content/NW_Ground_Stations_2016.csv')"
      ],
      "execution_count": 3,
      "outputs": []
    },
    {
      "cell_type": "code",
      "metadata": {
        "id": "Cz49O_wiSmwy",
        "colab_type": "code",
        "colab": {}
      },
      "source": [
        "Corr = df.corr()\n",
        "sns.heatmap(Corr, xticklabels=Corr.columns, yticklabels=Corr.columns, annot=True,cmap=\"YlGnBu\")"
      ],
      "execution_count": 4,
      "outputs": []
    },
    {
      "cell_type": "code",
      "metadata": {
        "id": "QEX5FaG2L_3Y",
        "colab_type": "code",
        "colab": {}
      },
      "source": [
        "df.info()"
      ],
      "execution_count": null,
      "outputs": []
    },
    {
      "cell_type": "code",
      "metadata": {
        "id": "72dVqteiMECj",
        "colab_type": "code",
        "colab": {}
      },
      "source": [
        "df.describe()"
      ],
      "execution_count": null,
      "outputs": []
    },
    {
      "cell_type": "code",
      "metadata": {
        "id": "C4K-sI4IMNMK",
        "colab_type": "code",
        "colab": {
          "base_uri": "https://localhost:8080/",
          "height": 195
        },
        "outputId": "d464d731-66ac-40b1-d043-89f2ce1a3d5a"
      },
      "source": [
        "df.head()"
      ],
      "execution_count": 8,
      "outputs": [
        {
          "output_type": "execute_result",
          "data": {
            "text/html": [
              "<div>\n",
              "<style scoped>\n",
              "    .dataframe tbody tr th:only-of-type {\n",
              "        vertical-align: middle;\n",
              "    }\n",
              "\n",
              "    .dataframe tbody tr th {\n",
              "        vertical-align: top;\n",
              "    }\n",
              "\n",
              "    .dataframe thead th {\n",
              "        text-align: right;\n",
              "    }\n",
              "</style>\n",
              "<table border=\"1\" class=\"dataframe\">\n",
              "  <thead>\n",
              "    <tr style=\"text-align: right;\">\n",
              "      <th></th>\n",
              "      <th>Unnamed: 0</th>\n",
              "      <th>t</th>\n",
              "      <th>date</th>\n",
              "      <th>number_sta</th>\n",
              "    </tr>\n",
              "  </thead>\n",
              "  <tbody>\n",
              "    <tr>\n",
              "      <th>0</th>\n",
              "      <td>0</td>\n",
              "      <td>279.85</td>\n",
              "      <td>20160101 00:00</td>\n",
              "      <td>0</td>\n",
              "    </tr>\n",
              "    <tr>\n",
              "      <th>1</th>\n",
              "      <td>1</td>\n",
              "      <td>278.45</td>\n",
              "      <td>20160101 00:00</td>\n",
              "      <td>1</td>\n",
              "    </tr>\n",
              "    <tr>\n",
              "      <th>2</th>\n",
              "      <td>2</td>\n",
              "      <td>277.65</td>\n",
              "      <td>20160101 00:00</td>\n",
              "      <td>2</td>\n",
              "    </tr>\n",
              "    <tr>\n",
              "      <th>3</th>\n",
              "      <td>3</td>\n",
              "      <td>278.95</td>\n",
              "      <td>20160101 00:00</td>\n",
              "      <td>3</td>\n",
              "    </tr>\n",
              "    <tr>\n",
              "      <th>4</th>\n",
              "      <td>4</td>\n",
              "      <td>278.35</td>\n",
              "      <td>20160101 00:00</td>\n",
              "      <td>4</td>\n",
              "    </tr>\n",
              "  </tbody>\n",
              "</table>\n",
              "</div>"
            ],
            "text/plain": [
              "   Unnamed: 0       t            date  number_sta\n",
              "0           0  279.85  20160101 00:00           0\n",
              "1           1  278.45  20160101 00:00           1\n",
              "2           2  277.65  20160101 00:00           2\n",
              "3           3  278.95  20160101 00:00           3\n",
              "4           4  278.35  20160101 00:00           4"
            ]
          },
          "metadata": {
            "tags": []
          },
          "execution_count": 8
        }
      ]
    },
    {
      "cell_type": "code",
      "metadata": {
        "id": "tYgpfiaXMOQW",
        "colab_type": "code",
        "colab": {}
      },
      "source": [
        "df = data[['t','date','number_sta']]"
      ],
      "execution_count": 9,
      "outputs": []
    },
    {
      "cell_type": "code",
      "metadata": {
        "id": "9R0BwAMjY3b_",
        "colab_type": "code",
        "colab": {}
      },
      "source": [
        "df['t'] = df['t'].interpolate(method ='linear', limit_direction ='forward')"
      ],
      "execution_count": 10,
      "outputs": []
    },
    {
      "cell_type": "code",
      "metadata": {
        "id": "0eqJZYnDM3Fo",
        "colab_type": "code",
        "colab": {
          "base_uri": "https://localhost:8080/",
          "height": 195
        },
        "outputId": "3deaa177-8d00-4246-d9c8-7070e6cb4433"
      },
      "source": [
        "df.head()"
      ],
      "execution_count": 11,
      "outputs": [
        {
          "output_type": "execute_result",
          "data": {
            "text/html": [
              "<div>\n",
              "<style scoped>\n",
              "    .dataframe tbody tr th:only-of-type {\n",
              "        vertical-align: middle;\n",
              "    }\n",
              "\n",
              "    .dataframe tbody tr th {\n",
              "        vertical-align: top;\n",
              "    }\n",
              "\n",
              "    .dataframe thead th {\n",
              "        text-align: right;\n",
              "    }\n",
              "</style>\n",
              "<table border=\"1\" class=\"dataframe\">\n",
              "  <thead>\n",
              "    <tr style=\"text-align: right;\">\n",
              "      <th></th>\n",
              "      <th>t</th>\n",
              "      <th>date</th>\n",
              "      <th>number_sta</th>\n",
              "    </tr>\n",
              "  </thead>\n",
              "  <tbody>\n",
              "    <tr>\n",
              "      <th>0</th>\n",
              "      <td>279.85</td>\n",
              "      <td>20160101 00:00</td>\n",
              "      <td>0</td>\n",
              "    </tr>\n",
              "    <tr>\n",
              "      <th>1</th>\n",
              "      <td>278.45</td>\n",
              "      <td>20160101 00:00</td>\n",
              "      <td>1</td>\n",
              "    </tr>\n",
              "    <tr>\n",
              "      <th>2</th>\n",
              "      <td>277.65</td>\n",
              "      <td>20160101 00:00</td>\n",
              "      <td>2</td>\n",
              "    </tr>\n",
              "    <tr>\n",
              "      <th>3</th>\n",
              "      <td>278.95</td>\n",
              "      <td>20160101 00:00</td>\n",
              "      <td>3</td>\n",
              "    </tr>\n",
              "    <tr>\n",
              "      <th>4</th>\n",
              "      <td>278.35</td>\n",
              "      <td>20160101 00:00</td>\n",
              "      <td>4</td>\n",
              "    </tr>\n",
              "  </tbody>\n",
              "</table>\n",
              "</div>"
            ],
            "text/plain": [
              "        t            date  number_sta\n",
              "0  279.85  20160101 00:00           0\n",
              "1  278.45  20160101 00:00           1\n",
              "2  277.65  20160101 00:00           2\n",
              "3  278.95  20160101 00:00           3\n",
              "4  278.35  20160101 00:00           4"
            ]
          },
          "metadata": {
            "tags": []
          },
          "execution_count": 11
        }
      ]
    },
    {
      "cell_type": "code",
      "metadata": {
        "id": "3OyDlYx2NC3E",
        "colab_type": "code",
        "colab": {}
      },
      "source": [
        "df['number_sta']= LabelEncoder().fit_transform(df['number_sta'])"
      ],
      "execution_count": 12,
      "outputs": []
    },
    {
      "cell_type": "code",
      "metadata": {
        "id": "N6P6GUtxNIIG",
        "colab_type": "code",
        "colab": {}
      },
      "source": [
        "df['date'] = pd.to_datetime(df['date'], format='%Y%m%d %H:%M')\n",
        "df = df.set_index('date')\n",
        "\n",
        "df['Year']= df.index.year\n",
        "df['Month'] = df.index.month\n",
        "df['Day'] = df.index.day\n",
        "df['DW'] = df.index.dayofweek\n",
        "df['DY'] = df.index.dayofyear\n",
        "df['WY'] = df.index.weekofyear\n",
        "\n",
        "df['H'] = df.index.hour\n",
        "df['M'] = df.index.minute\n",
        "df['S'] = df.index.second"
      ],
      "execution_count": 13,
      "outputs": []
    },
    {
      "cell_type": "code",
      "metadata": {
        "id": "eT2D-aJIacZz",
        "colab_type": "code",
        "colab": {
          "base_uri": "https://localhost:8080/",
          "height": 225
        },
        "outputId": "2723b44e-d791-4d5a-c0bb-47983a08fb28"
      },
      "source": [
        "df.head()"
      ],
      "execution_count": 14,
      "outputs": [
        {
          "output_type": "execute_result",
          "data": {
            "text/html": [
              "<div>\n",
              "<style scoped>\n",
              "    .dataframe tbody tr th:only-of-type {\n",
              "        vertical-align: middle;\n",
              "    }\n",
              "\n",
              "    .dataframe tbody tr th {\n",
              "        vertical-align: top;\n",
              "    }\n",
              "\n",
              "    .dataframe thead th {\n",
              "        text-align: right;\n",
              "    }\n",
              "</style>\n",
              "<table border=\"1\" class=\"dataframe\">\n",
              "  <thead>\n",
              "    <tr style=\"text-align: right;\">\n",
              "      <th></th>\n",
              "      <th>t</th>\n",
              "      <th>number_sta</th>\n",
              "      <th>Year</th>\n",
              "      <th>Month</th>\n",
              "      <th>Day</th>\n",
              "      <th>DW</th>\n",
              "      <th>DY</th>\n",
              "      <th>WY</th>\n",
              "      <th>H</th>\n",
              "      <th>M</th>\n",
              "      <th>S</th>\n",
              "    </tr>\n",
              "    <tr>\n",
              "      <th>date</th>\n",
              "      <th></th>\n",
              "      <th></th>\n",
              "      <th></th>\n",
              "      <th></th>\n",
              "      <th></th>\n",
              "      <th></th>\n",
              "      <th></th>\n",
              "      <th></th>\n",
              "      <th></th>\n",
              "      <th></th>\n",
              "      <th></th>\n",
              "    </tr>\n",
              "  </thead>\n",
              "  <tbody>\n",
              "    <tr>\n",
              "      <th>2016-01-01</th>\n",
              "      <td>279.85</td>\n",
              "      <td>0</td>\n",
              "      <td>2016</td>\n",
              "      <td>1</td>\n",
              "      <td>1</td>\n",
              "      <td>4</td>\n",
              "      <td>1</td>\n",
              "      <td>53</td>\n",
              "      <td>0</td>\n",
              "      <td>0</td>\n",
              "      <td>0</td>\n",
              "    </tr>\n",
              "    <tr>\n",
              "      <th>2016-01-01</th>\n",
              "      <td>278.45</td>\n",
              "      <td>1</td>\n",
              "      <td>2016</td>\n",
              "      <td>1</td>\n",
              "      <td>1</td>\n",
              "      <td>4</td>\n",
              "      <td>1</td>\n",
              "      <td>53</td>\n",
              "      <td>0</td>\n",
              "      <td>0</td>\n",
              "      <td>0</td>\n",
              "    </tr>\n",
              "    <tr>\n",
              "      <th>2016-01-01</th>\n",
              "      <td>277.65</td>\n",
              "      <td>2</td>\n",
              "      <td>2016</td>\n",
              "      <td>1</td>\n",
              "      <td>1</td>\n",
              "      <td>4</td>\n",
              "      <td>1</td>\n",
              "      <td>53</td>\n",
              "      <td>0</td>\n",
              "      <td>0</td>\n",
              "      <td>0</td>\n",
              "    </tr>\n",
              "    <tr>\n",
              "      <th>2016-01-01</th>\n",
              "      <td>278.95</td>\n",
              "      <td>3</td>\n",
              "      <td>2016</td>\n",
              "      <td>1</td>\n",
              "      <td>1</td>\n",
              "      <td>4</td>\n",
              "      <td>1</td>\n",
              "      <td>53</td>\n",
              "      <td>0</td>\n",
              "      <td>0</td>\n",
              "      <td>0</td>\n",
              "    </tr>\n",
              "    <tr>\n",
              "      <th>2016-01-01</th>\n",
              "      <td>278.35</td>\n",
              "      <td>4</td>\n",
              "      <td>2016</td>\n",
              "      <td>1</td>\n",
              "      <td>1</td>\n",
              "      <td>4</td>\n",
              "      <td>1</td>\n",
              "      <td>53</td>\n",
              "      <td>0</td>\n",
              "      <td>0</td>\n",
              "      <td>0</td>\n",
              "    </tr>\n",
              "  </tbody>\n",
              "</table>\n",
              "</div>"
            ],
            "text/plain": [
              "                 t  number_sta  Year  Month  Day  DW  DY  WY  H  M  S\n",
              "date                                                                 \n",
              "2016-01-01  279.85           0  2016      1    1   4   1  53  0  0  0\n",
              "2016-01-01  278.45           1  2016      1    1   4   1  53  0  0  0\n",
              "2016-01-01  277.65           2  2016      1    1   4   1  53  0  0  0\n",
              "2016-01-01  278.95           3  2016      1    1   4   1  53  0  0  0\n",
              "2016-01-01  278.35           4  2016      1    1   4   1  53  0  0  0"
            ]
          },
          "metadata": {
            "tags": []
          },
          "execution_count": 14
        }
      ]
    },
    {
      "cell_type": "code",
      "metadata": {
        "id": "4w_kwS9WNxzT",
        "colab_type": "code",
        "colab": {}
      },
      "source": [
        "X = df.drop(columns=['t'],axis=1)\n",
        "Y = df['t']"
      ],
      "execution_count": 15,
      "outputs": []
    },
    {
      "cell_type": "code",
      "metadata": {
        "id": "0t3eqwciN-Du",
        "colab_type": "code",
        "colab": {}
      },
      "source": [
        "X_train, X_test, Y_train, Y_test = train_test_split(X, Y, test_size=0.2)\n"
      ],
      "execution_count": 16,
      "outputs": []
    },
    {
      "cell_type": "code",
      "metadata": {
        "id": "KwBmRWryOHTx",
        "colab_type": "code",
        "colab": {}
      },
      "source": [
        "# # GBR = GradientBoostingRegressor()\n",
        "# # GBR.fit(X_train,Y_train)\n",
        "# # pred = GBR.predict(X_test)\n",
        "\n",
        "# Result >> r2= 0.699405129313601 MAE= 2.500495975739092 MSE= 10.607390609037203"
      ],
      "execution_count": 17,
      "outputs": []
    },
    {
      "cell_type": "code",
      "metadata": {
        "id": "egcd-cjaOP6O",
        "colab_type": "code",
        "colab": {}
      },
      "source": [
        "XGB = xgboost.XGBRegressor()"
      ],
      "execution_count": 18,
      "outputs": []
    },
    {
      "cell_type": "code",
      "metadata": {
        "id": "OG32jflUn3jB",
        "colab_type": "code",
        "colab": {}
      },
      "source": [
        "model = XGB\n",
        "visualizer = PredictionError(model)\n",
        "\n",
        "visualizer.fit(X_train, Y_train)  \n",
        "visualizer.score(X_test, Y_test)  \n",
        "visualizer.show()  "
      ],
      "execution_count": null,
      "outputs": []
    },
    {
      "cell_type": "code",
      "metadata": {
        "id": "zv2Iw_GNn4rQ",
        "colab_type": "code",
        "colab": {}
      },
      "source": [
        "viz = ValidationCurve(\n",
        "    XGB, param_name=\"max_depth\",\n",
        "    param_range=np.arange(1, 11), cv=4, scoring=\"r2\"\n",
        ")\n",
        "\n",
        "# Fit and show the visualizer\n",
        "viz.fit(X, Y)\n",
        "viz.show()"
      ],
      "execution_count": null,
      "outputs": []
    },
    {
      "cell_type": "code",
      "metadata": {
        "id": "o4s18dpJO4XN",
        "colab_type": "code",
        "colab": {}
      },
      "source": [
        "XGB.fit(X_train,Y_train)"
      ],
      "execution_count": null,
      "outputs": []
    },
    {
      "cell_type": "code",
      "metadata": {
        "id": "j0EtVH5lnEkF",
        "colab_type": "code",
        "colab": {}
      },
      "source": [
        "plt.bar( range(len(XGB.feature_importances_)), XGB.feature_importances_)\n",
        "plt.xticks(range(len(XGB.feature_importances_)), df.columns)\n",
        "plt.show()"
      ],
      "execution_count": null,
      "outputs": []
    },
    {
      "cell_type": "code",
      "metadata": {
        "id": "jJNjnEZbO-BG",
        "colab_type": "code",
        "colab": {}
      },
      "source": [
        "pred = XGB.predict(X_test)\n"
      ],
      "execution_count": null,
      "outputs": []
    },
    {
      "cell_type": "code",
      "metadata": {
        "id": "e5oUgNoRme6h",
        "colab_type": "code",
        "colab": {}
      },
      "source": [
        "print('r2=',r2_score(Y_test,pred),'MAE=',mean_absolute_error(Y_test,pred),'MSE=',mean_squared_error(Y_test,pred))\n",
        "\n"
      ],
      "execution_count": null,
      "outputs": []
    },
    {
      "cell_type": "markdown",
      "metadata": {
        "id": "S4AQzXFsmnJF",
        "colab_type": "text"
      },
      "source": [
        "# # #Result >> r2_score= 0.9276552674827134 MAE= 1.3399149728369535 MSE= 3.0532917890705478"
      ]
    },
    {
      "cell_type": "code",
      "metadata": {
        "id": "3y08_FPamhsh",
        "colab_type": "code",
        "colab": {}
      },
      "source": [
        "df.to_csv('NW_Ground_Stations_2016final3.csv')\n",
        "\n",
        "pickle.dump(XGB,open('weather.sav','wb'))"
      ],
      "execution_count": null,
      "outputs": []
    }
  ]
}