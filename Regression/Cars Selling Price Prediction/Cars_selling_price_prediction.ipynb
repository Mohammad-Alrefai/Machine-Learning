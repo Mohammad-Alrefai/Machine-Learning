{
  "nbformat": 4,
  "nbformat_minor": 0,
  "metadata": {
    "colab": {
      "name": "Cars selling price prediction.ipynb",
      "provenance": [],
      "collapsed_sections": []
    },
    "kernelspec": {
      "name": "python3",
      "display_name": "Python 3"
    },
    "accelerator": "GPU",
    "widgets": {
      "application/vnd.jupyter.widget-state+json": {
        "b2df865880a54d769b5623460e0e04f3": {
          "model_module": "@jupyter-widgets/controls",
          "model_name": "IntProgressModel",
          "state": {
            "_view_name": "ProgressView",
            "style": "IPY_MODEL_43f7c88fd3d44fcc89c775a076641a27",
            "_dom_classes": [],
            "description": "Processing: ",
            "_model_name": "IntProgressModel",
            "bar_style": "",
            "max": 13,
            "_view_module": "@jupyter-widgets/controls",
            "_model_module_version": "1.5.0",
            "value": 3,
            "_view_count": null,
            "_view_module_version": "1.5.0",
            "orientation": "horizontal",
            "min": 0,
            "description_tooltip": null,
            "_model_module": "@jupyter-widgets/controls",
            "layout": "IPY_MODEL_40110550d6ec4aa1b77379d05d9c1626"
          }
        },
        "43f7c88fd3d44fcc89c775a076641a27": {
          "model_module": "@jupyter-widgets/controls",
          "model_name": "ProgressStyleModel",
          "state": {
            "_view_name": "StyleView",
            "_model_name": "ProgressStyleModel",
            "description_width": "",
            "_view_module": "@jupyter-widgets/base",
            "_model_module_version": "1.5.0",
            "_view_count": null,
            "_view_module_version": "1.2.0",
            "bar_color": null,
            "_model_module": "@jupyter-widgets/controls"
          }
        },
        "40110550d6ec4aa1b77379d05d9c1626": {
          "model_module": "@jupyter-widgets/base",
          "model_name": "LayoutModel",
          "state": {
            "_view_name": "LayoutView",
            "grid_template_rows": null,
            "right": null,
            "justify_content": null,
            "_view_module": "@jupyter-widgets/base",
            "overflow": null,
            "_model_module_version": "1.2.0",
            "_view_count": null,
            "flex_flow": null,
            "width": null,
            "min_width": null,
            "border": null,
            "align_items": null,
            "bottom": null,
            "_model_module": "@jupyter-widgets/base",
            "top": null,
            "grid_column": null,
            "overflow_y": null,
            "overflow_x": null,
            "grid_auto_flow": null,
            "grid_area": null,
            "grid_template_columns": null,
            "flex": null,
            "_model_name": "LayoutModel",
            "justify_items": null,
            "grid_row": null,
            "max_height": null,
            "align_content": null,
            "visibility": null,
            "align_self": null,
            "height": null,
            "min_height": null,
            "padding": null,
            "grid_auto_rows": null,
            "grid_gap": null,
            "max_width": null,
            "order": null,
            "_view_module_version": "1.2.0",
            "grid_template_areas": null,
            "object_position": null,
            "object_fit": null,
            "grid_auto_columns": null,
            "margin": null,
            "display": null,
            "left": null
          }
        },
        "e238441f1de04a7fb8aff209d676f475": {
          "model_module": "@jupyter-widgets/controls",
          "model_name": "TextModel",
          "state": {
            "_view_name": "TextView",
            "style": "IPY_MODEL_b445b3ce547545698a83906e281094b5",
            "_dom_classes": [],
            "description": "",
            "_model_name": "TextModel",
            "placeholder": "​",
            "_view_module": "@jupyter-widgets/controls",
            "_model_module_version": "1.5.0",
            "value": "Following data types have been inferred automatically, if they are correct press enter to continue or type 'quit' otherwise.",
            "_view_count": null,
            "disabled": false,
            "_view_module_version": "1.5.0",
            "continuous_update": true,
            "description_tooltip": null,
            "_model_module": "@jupyter-widgets/controls",
            "layout": "IPY_MODEL_9858310b95b84ca39a2104c3ed1cd27c"
          }
        },
        "b445b3ce547545698a83906e281094b5": {
          "model_module": "@jupyter-widgets/controls",
          "model_name": "DescriptionStyleModel",
          "state": {
            "_view_name": "StyleView",
            "_model_name": "DescriptionStyleModel",
            "description_width": "",
            "_view_module": "@jupyter-widgets/base",
            "_model_module_version": "1.5.0",
            "_view_count": null,
            "_view_module_version": "1.2.0",
            "_model_module": "@jupyter-widgets/controls"
          }
        },
        "9858310b95b84ca39a2104c3ed1cd27c": {
          "model_module": "@jupyter-widgets/base",
          "model_name": "LayoutModel",
          "state": {
            "_view_name": "LayoutView",
            "grid_template_rows": null,
            "right": null,
            "justify_content": null,
            "_view_module": "@jupyter-widgets/base",
            "overflow": null,
            "_model_module_version": "1.2.0",
            "_view_count": null,
            "flex_flow": null,
            "width": "100%",
            "min_width": null,
            "border": null,
            "align_items": null,
            "bottom": null,
            "_model_module": "@jupyter-widgets/base",
            "top": null,
            "grid_column": null,
            "overflow_y": null,
            "overflow_x": null,
            "grid_auto_flow": null,
            "grid_area": null,
            "grid_template_columns": null,
            "flex": null,
            "_model_name": "LayoutModel",
            "justify_items": null,
            "grid_row": null,
            "max_height": null,
            "align_content": null,
            "visibility": null,
            "align_self": null,
            "height": null,
            "min_height": null,
            "padding": null,
            "grid_auto_rows": null,
            "grid_gap": null,
            "max_width": null,
            "order": null,
            "_view_module_version": "1.2.0",
            "grid_template_areas": null,
            "object_position": null,
            "object_fit": null,
            "grid_auto_columns": null,
            "margin": null,
            "display": null,
            "left": null
          }
        },
        "71c5fd20a21649b490bbe64b56afdd96": {
          "model_module": "@jupyter-widgets/controls",
          "model_name": "IntProgressModel",
          "state": {
            "_view_name": "ProgressView",
            "style": "IPY_MODEL_b0b60786f6374b529873be9ff777526d",
            "_dom_classes": [],
            "description": "Processing: ",
            "_model_name": "IntProgressModel",
            "bar_style": "",
            "max": 14,
            "_view_module": "@jupyter-widgets/controls",
            "_model_module_version": "1.5.0",
            "value": 14,
            "_view_count": null,
            "_view_module_version": "1.5.0",
            "orientation": "horizontal",
            "min": 0,
            "description_tooltip": null,
            "_model_module": "@jupyter-widgets/controls",
            "layout": "IPY_MODEL_e5613ee17a534490bb392b34a9d6fc9a"
          }
        },
        "b0b60786f6374b529873be9ff777526d": {
          "model_module": "@jupyter-widgets/controls",
          "model_name": "ProgressStyleModel",
          "state": {
            "_view_name": "StyleView",
            "_model_name": "ProgressStyleModel",
            "description_width": "",
            "_view_module": "@jupyter-widgets/base",
            "_model_module_version": "1.5.0",
            "_view_count": null,
            "_view_module_version": "1.2.0",
            "bar_color": null,
            "_model_module": "@jupyter-widgets/controls"
          }
        },
        "e5613ee17a534490bb392b34a9d6fc9a": {
          "model_module": "@jupyter-widgets/base",
          "model_name": "LayoutModel",
          "state": {
            "_view_name": "LayoutView",
            "grid_template_rows": null,
            "right": null,
            "justify_content": null,
            "_view_module": "@jupyter-widgets/base",
            "overflow": null,
            "_model_module_version": "1.2.0",
            "_view_count": null,
            "flex_flow": null,
            "width": null,
            "min_width": null,
            "border": null,
            "align_items": null,
            "bottom": null,
            "_model_module": "@jupyter-widgets/base",
            "top": null,
            "grid_column": null,
            "overflow_y": null,
            "overflow_x": null,
            "grid_auto_flow": null,
            "grid_area": null,
            "grid_template_columns": null,
            "flex": null,
            "_model_name": "LayoutModel",
            "justify_items": null,
            "grid_row": null,
            "max_height": null,
            "align_content": null,
            "visibility": null,
            "align_self": null,
            "height": null,
            "min_height": null,
            "padding": null,
            "grid_auto_rows": null,
            "grid_gap": null,
            "max_width": null,
            "order": null,
            "_view_module_version": "1.2.0",
            "grid_template_areas": null,
            "object_position": null,
            "object_fit": null,
            "grid_auto_columns": null,
            "margin": null,
            "display": null,
            "left": null
          }
        },
        "867a4b2191e444ac9a4f026fd202a520": {
          "model_module": "@jupyter-widgets/controls",
          "model_name": "IntProgressModel",
          "state": {
            "_view_name": "ProgressView",
            "style": "IPY_MODEL_dbe1bbac8db34209b766c4e06a6b4623",
            "_dom_classes": [],
            "description": "Processing: ",
            "_model_name": "IntProgressModel",
            "bar_style": "",
            "max": 5,
            "_view_module": "@jupyter-widgets/controls",
            "_model_module_version": "1.5.0",
            "value": 4,
            "_view_count": null,
            "_view_module_version": "1.5.0",
            "orientation": "horizontal",
            "min": 0,
            "description_tooltip": null,
            "_model_module": "@jupyter-widgets/controls",
            "layout": "IPY_MODEL_5203bc760f904f4d99e344de59d5354b"
          }
        },
        "01b5180c0be2464ab343cafdc43dd2a3": {
          "model_module": "@jupyter-widgets/controls",
          "model_name": "IntProgressModel",
          "state": {
            "_view_name": "ProgressView",
            "style": "IPY_MODEL_f427a77b55594e72b7a0ea62219ae908",
            "_dom_classes": [],
            "description": "Processing: ",
            "_model_name": "IntProgressModel",
            "bar_style": "",
            "max": 5,
            "_view_module": "@jupyter-widgets/controls",
            "_model_module_version": "1.5.0",
            "value": 3,
            "_view_count": null,
            "_view_module_version": "1.5.0",
            "orientation": "horizontal",
            "min": 0,
            "description_tooltip": null,
            "_model_module": "@jupyter-widgets/controls",
            "layout": "IPY_MODEL_5ad880ebc9104ce69a4f6a57e9cb81c1"
          }
        },
        "f427a77b55594e72b7a0ea62219ae908": {
          "model_module": "@jupyter-widgets/controls",
          "model_name": "ProgressStyleModel",
          "state": {
            "_view_name": "StyleView",
            "_model_name": "ProgressStyleModel",
            "description_width": "",
            "_view_module": "@jupyter-widgets/base",
            "_model_module_version": "1.5.0",
            "_view_count": null,
            "_view_module_version": "1.2.0",
            "bar_color": null,
            "_model_module": "@jupyter-widgets/controls"
          }
        },
        "5ad880ebc9104ce69a4f6a57e9cb81c1": {
          "model_module": "@jupyter-widgets/base",
          "model_name": "LayoutModel",
          "state": {
            "_view_name": "LayoutView",
            "grid_template_rows": null,
            "right": null,
            "justify_content": null,
            "_view_module": "@jupyter-widgets/base",
            "overflow": null,
            "_model_module_version": "1.2.0",
            "_view_count": null,
            "flex_flow": null,
            "width": null,
            "min_width": null,
            "border": null,
            "align_items": null,
            "bottom": null,
            "_model_module": "@jupyter-widgets/base",
            "top": null,
            "grid_column": null,
            "overflow_y": null,
            "overflow_x": null,
            "grid_auto_flow": null,
            "grid_area": null,
            "grid_template_columns": null,
            "flex": null,
            "_model_name": "LayoutModel",
            "justify_items": null,
            "grid_row": null,
            "max_height": null,
            "align_content": null,
            "visibility": null,
            "align_self": null,
            "height": null,
            "min_height": null,
            "padding": null,
            "grid_auto_rows": null,
            "grid_gap": null,
            "max_width": null,
            "order": null,
            "_view_module_version": "1.2.0",
            "grid_template_areas": null,
            "object_position": null,
            "object_fit": null,
            "grid_auto_columns": null,
            "margin": null,
            "display": null,
            "left": null
          }
        },
        "44e3fc4ca40f4007a6b9363cbc32074c": {
          "model_module": "@jupyter-widgets/controls",
          "model_name": "IntProgressModel",
          "state": {
            "_view_name": "ProgressView",
            "style": "IPY_MODEL_eab28d93def1455f99011579f67097fb",
            "_dom_classes": [],
            "description": "Processing: ",
            "_model_name": "IntProgressModel",
            "bar_style": "",
            "max": 5,
            "_view_module": "@jupyter-widgets/controls",
            "_model_module_version": "1.5.0",
            "value": 4,
            "_view_count": null,
            "_view_module_version": "1.5.0",
            "orientation": "horizontal",
            "min": 0,
            "description_tooltip": null,
            "_model_module": "@jupyter-widgets/controls",
            "layout": "IPY_MODEL_9477773564a249549c0ad2b810685b46"
          }
        },
        "eab28d93def1455f99011579f67097fb": {
          "model_module": "@jupyter-widgets/controls",
          "model_name": "ProgressStyleModel",
          "state": {
            "_view_name": "StyleView",
            "_model_name": "ProgressStyleModel",
            "description_width": "",
            "_view_module": "@jupyter-widgets/base",
            "_model_module_version": "1.5.0",
            "_view_count": null,
            "_view_module_version": "1.2.0",
            "bar_color": null,
            "_model_module": "@jupyter-widgets/controls"
          }
        },
        "9477773564a249549c0ad2b810685b46": {
          "model_module": "@jupyter-widgets/base",
          "model_name": "LayoutModel",
          "state": {
            "_view_name": "LayoutView",
            "grid_template_rows": null,
            "right": null,
            "justify_content": null,
            "_view_module": "@jupyter-widgets/base",
            "overflow": null,
            "_model_module_version": "1.2.0",
            "_view_count": null,
            "flex_flow": null,
            "width": null,
            "min_width": null,
            "border": null,
            "align_items": null,
            "bottom": null,
            "_model_module": "@jupyter-widgets/base",
            "top": null,
            "grid_column": null,
            "overflow_y": null,
            "overflow_x": null,
            "grid_auto_flow": null,
            "grid_area": null,
            "grid_template_columns": null,
            "flex": null,
            "_model_name": "LayoutModel",
            "justify_items": null,
            "grid_row": null,
            "max_height": null,
            "align_content": null,
            "visibility": null,
            "align_self": null,
            "height": null,
            "min_height": null,
            "padding": null,
            "grid_auto_rows": null,
            "grid_gap": null,
            "max_width": null,
            "order": null,
            "_view_module_version": "1.2.0",
            "grid_template_areas": null,
            "object_position": null,
            "object_fit": null,
            "grid_auto_columns": null,
            "margin": null,
            "display": null,
            "left": null
          }
        }
      }
    }
  },
  "cells": [
    {
      "cell_type": "code",
      "metadata": {
        "id": "3fci9Z0jkfPw",
        "colab_type": "code",
        "colab": {}
      },
      "source": [
        "import pandas as pd\n",
        "import numpy as np\n",
        "from sklearn.model_selection import train_test_split\n",
        "from sklearn.preprocessing import LabelEncoder\n",
        "import seaborn as sns\n",
        "import matplotlib.pyplot as plt\n",
        "from pycaret.regression import *\n",
        "import pycaret\n",
        "from catboost import CatBoostRegressor\n",
        "import lightgbm as lgb\n",
        "import pickle as pk\n",
        "from sklearn.model_selection import cross_val_score"
      ],
      "execution_count": 71,
      "outputs": []
    },
    {
      "cell_type": "code",
      "metadata": {
        "id": "_wLExm9szR6R",
        "colab_type": "code",
        "colab": {}
      },
      "source": [
        "#!pip install pycaret"
      ],
      "execution_count": 72,
      "outputs": []
    },
    {
      "cell_type": "code",
      "metadata": {
        "id": "MYHuZeWengp1",
        "colab_type": "code",
        "colab": {}
      },
      "source": [
        "df = pd.read_csv(\"/content/CAR DETAILS FROM CAR DEKHO.csv\")"
      ],
      "execution_count": 73,
      "outputs": []
    },
    {
      "cell_type": "code",
      "metadata": {
        "id": "N9zflW7Iol_2",
        "colab_type": "code",
        "colab": {
          "base_uri": "https://localhost:8080/",
          "height": 195
        },
        "outputId": "7a9856e1-97cb-4e82-c495-6aff81012301"
      },
      "source": [
        "df.head()"
      ],
      "execution_count": 74,
      "outputs": [
        {
          "output_type": "execute_result",
          "data": {
            "text/html": [
              "<div>\n",
              "<style scoped>\n",
              "    .dataframe tbody tr th:only-of-type {\n",
              "        vertical-align: middle;\n",
              "    }\n",
              "\n",
              "    .dataframe tbody tr th {\n",
              "        vertical-align: top;\n",
              "    }\n",
              "\n",
              "    .dataframe thead th {\n",
              "        text-align: right;\n",
              "    }\n",
              "</style>\n",
              "<table border=\"1\" class=\"dataframe\">\n",
              "  <thead>\n",
              "    <tr style=\"text-align: right;\">\n",
              "      <th></th>\n",
              "      <th>name</th>\n",
              "      <th>year</th>\n",
              "      <th>selling_price</th>\n",
              "      <th>km_driven</th>\n",
              "      <th>fuel</th>\n",
              "      <th>seller_type</th>\n",
              "      <th>transmission</th>\n",
              "      <th>owner</th>\n",
              "    </tr>\n",
              "  </thead>\n",
              "  <tbody>\n",
              "    <tr>\n",
              "      <th>0</th>\n",
              "      <td>Maruti 800 AC</td>\n",
              "      <td>2007</td>\n",
              "      <td>60000</td>\n",
              "      <td>70000</td>\n",
              "      <td>Petrol</td>\n",
              "      <td>Individual</td>\n",
              "      <td>Manual</td>\n",
              "      <td>First Owner</td>\n",
              "    </tr>\n",
              "    <tr>\n",
              "      <th>1</th>\n",
              "      <td>Maruti Wagon R LXI Minor</td>\n",
              "      <td>2007</td>\n",
              "      <td>135000</td>\n",
              "      <td>50000</td>\n",
              "      <td>Petrol</td>\n",
              "      <td>Individual</td>\n",
              "      <td>Manual</td>\n",
              "      <td>First Owner</td>\n",
              "    </tr>\n",
              "    <tr>\n",
              "      <th>2</th>\n",
              "      <td>Hyundai Verna 1.6 SX</td>\n",
              "      <td>2012</td>\n",
              "      <td>600000</td>\n",
              "      <td>100000</td>\n",
              "      <td>Diesel</td>\n",
              "      <td>Individual</td>\n",
              "      <td>Manual</td>\n",
              "      <td>First Owner</td>\n",
              "    </tr>\n",
              "    <tr>\n",
              "      <th>3</th>\n",
              "      <td>Datsun RediGO T Option</td>\n",
              "      <td>2017</td>\n",
              "      <td>250000</td>\n",
              "      <td>46000</td>\n",
              "      <td>Petrol</td>\n",
              "      <td>Individual</td>\n",
              "      <td>Manual</td>\n",
              "      <td>First Owner</td>\n",
              "    </tr>\n",
              "    <tr>\n",
              "      <th>4</th>\n",
              "      <td>Honda Amaze VX i-DTEC</td>\n",
              "      <td>2014</td>\n",
              "      <td>450000</td>\n",
              "      <td>141000</td>\n",
              "      <td>Diesel</td>\n",
              "      <td>Individual</td>\n",
              "      <td>Manual</td>\n",
              "      <td>Second Owner</td>\n",
              "    </tr>\n",
              "  </tbody>\n",
              "</table>\n",
              "</div>"
            ],
            "text/plain": [
              "                       name  year  ...  transmission         owner\n",
              "0             Maruti 800 AC  2007  ...        Manual   First Owner\n",
              "1  Maruti Wagon R LXI Minor  2007  ...        Manual   First Owner\n",
              "2      Hyundai Verna 1.6 SX  2012  ...        Manual   First Owner\n",
              "3    Datsun RediGO T Option  2017  ...        Manual   First Owner\n",
              "4     Honda Amaze VX i-DTEC  2014  ...        Manual  Second Owner\n",
              "\n",
              "[5 rows x 8 columns]"
            ]
          },
          "metadata": {
            "tags": []
          },
          "execution_count": 74
        }
      ]
    },
    {
      "cell_type": "code",
      "metadata": {
        "id": "XplOsUZD-P_M",
        "colab_type": "code",
        "colab": {}
      },
      "source": [
        "encoder = LabelEncoder()"
      ],
      "execution_count": 75,
      "outputs": []
    },
    {
      "cell_type": "code",
      "metadata": {
        "id": "LM8HetG3oqHN",
        "colab_type": "code",
        "colab": {}
      },
      "source": [
        "df.name=encoder.fit_transform(df.name)\n",
        "df.fuel = encoder.fit_transform(df.fuel)\n",
        "df.seller_type = encoder.fit_transform(df.seller_type)\n",
        "df.transmission = encoder.fit_transform(df.transmission)\n",
        "df.owner = encoder.fit_transform(df.owner)"
      ],
      "execution_count": 76,
      "outputs": []
    },
    {
      "cell_type": "code",
      "metadata": {
        "id": "yrW4OaUmpzKQ",
        "colab_type": "code",
        "colab": {
          "base_uri": "https://localhost:8080/",
          "height": 195
        },
        "outputId": "d6d3f1c7-b29a-4eb8-fcc9-8ad6732a945e"
      },
      "source": [
        "df.head()"
      ],
      "execution_count": 77,
      "outputs": [
        {
          "output_type": "execute_result",
          "data": {
            "text/html": [
              "<div>\n",
              "<style scoped>\n",
              "    .dataframe tbody tr th:only-of-type {\n",
              "        vertical-align: middle;\n",
              "    }\n",
              "\n",
              "    .dataframe tbody tr th {\n",
              "        vertical-align: top;\n",
              "    }\n",
              "\n",
              "    .dataframe thead th {\n",
              "        text-align: right;\n",
              "    }\n",
              "</style>\n",
              "<table border=\"1\" class=\"dataframe\">\n",
              "  <thead>\n",
              "    <tr style=\"text-align: right;\">\n",
              "      <th></th>\n",
              "      <th>name</th>\n",
              "      <th>year</th>\n",
              "      <th>selling_price</th>\n",
              "      <th>km_driven</th>\n",
              "      <th>fuel</th>\n",
              "      <th>seller_type</th>\n",
              "      <th>transmission</th>\n",
              "      <th>owner</th>\n",
              "    </tr>\n",
              "  </thead>\n",
              "  <tbody>\n",
              "    <tr>\n",
              "      <th>0</th>\n",
              "      <td>775</td>\n",
              "      <td>2007</td>\n",
              "      <td>60000</td>\n",
              "      <td>70000</td>\n",
              "      <td>4</td>\n",
              "      <td>1</td>\n",
              "      <td>1</td>\n",
              "      <td>0</td>\n",
              "    </tr>\n",
              "    <tr>\n",
              "      <th>1</th>\n",
              "      <td>1041</td>\n",
              "      <td>2007</td>\n",
              "      <td>135000</td>\n",
              "      <td>50000</td>\n",
              "      <td>4</td>\n",
              "      <td>1</td>\n",
              "      <td>1</td>\n",
              "      <td>0</td>\n",
              "    </tr>\n",
              "    <tr>\n",
              "      <th>2</th>\n",
              "      <td>505</td>\n",
              "      <td>2012</td>\n",
              "      <td>600000</td>\n",
              "      <td>100000</td>\n",
              "      <td>1</td>\n",
              "      <td>1</td>\n",
              "      <td>1</td>\n",
              "      <td>0</td>\n",
              "    </tr>\n",
              "    <tr>\n",
              "      <th>3</th>\n",
              "      <td>118</td>\n",
              "      <td>2017</td>\n",
              "      <td>250000</td>\n",
              "      <td>46000</td>\n",
              "      <td>4</td>\n",
              "      <td>1</td>\n",
              "      <td>1</td>\n",
              "      <td>0</td>\n",
              "    </tr>\n",
              "    <tr>\n",
              "      <th>4</th>\n",
              "      <td>279</td>\n",
              "      <td>2014</td>\n",
              "      <td>450000</td>\n",
              "      <td>141000</td>\n",
              "      <td>1</td>\n",
              "      <td>1</td>\n",
              "      <td>1</td>\n",
              "      <td>2</td>\n",
              "    </tr>\n",
              "  </tbody>\n",
              "</table>\n",
              "</div>"
            ],
            "text/plain": [
              "   name  year  selling_price  km_driven  fuel  seller_type  transmission  owner\n",
              "0   775  2007          60000      70000     4            1             1      0\n",
              "1  1041  2007         135000      50000     4            1             1      0\n",
              "2   505  2012         600000     100000     1            1             1      0\n",
              "3   118  2017         250000      46000     4            1             1      0\n",
              "4   279  2014         450000     141000     1            1             1      2"
            ]
          },
          "metadata": {
            "tags": []
          },
          "execution_count": 77
        }
      ]
    },
    {
      "cell_type": "code",
      "metadata": {
        "id": "94tH1n7OzPz_",
        "colab_type": "code",
        "colab": {
          "base_uri": "https://localhost:8080/",
          "height": 414
        },
        "outputId": "e1274929-187e-4d01-bc85-3ecaa3803b65"
      },
      "source": [
        "Corr = df.corr()\n",
        "\n",
        "sns.heatmap(Corr, xticklabels=Corr.columns, yticklabels=Corr.columns, annot=True,cmap=\"YlGnBu\")"
      ],
      "execution_count": 78,
      "outputs": [
        {
          "output_type": "execute_result",
          "data": {
            "text/plain": [
              "<matplotlib.axes._subplots.AxesSubplot at 0x7fac257d7710>"
            ]
          },
          "metadata": {
            "tags": []
          },
          "execution_count": 78
        },
        {
          "output_type": "display_data",
          "data": {
            "image/png": "[encoded data removed]",
            "text/plain": [
              "<Figure size 576x396 with 2 Axes>"
            ]
          },
          "metadata": {
            "tags": []
          }
        }
      ]
    },
    {
      "cell_type": "code",
      "metadata": {
        "id": "IVlkF_QnI3VF",
        "colab_type": "code",
        "colab": {}
      },
      "source": [
        "x = df.drop(columns=[\"selling_price\"])\n",
        "y = df[\"selling_price\"]"
      ],
      "execution_count": 79,
      "outputs": []
    },
    {
      "cell_type": "code",
      "metadata": {
        "id": "lSR4aJb99R4k",
        "colab_type": "code",
        "colab": {
          "base_uri": "https://localhost:8080/",
          "height": 912,
          "referenced_widgets": [
            "b2df865880a54d769b5623460e0e04f3",
            "43f7c88fd3d44fcc89c775a076641a27",
            "40110550d6ec4aa1b77379d05d9c1626",
            "e238441f1de04a7fb8aff209d676f475",
            "b445b3ce547545698a83906e281094b5",
            "9858310b95b84ca39a2104c3ed1cd27c"
          ]
        },
        "outputId": "6dc20abd-9c5c-49c9-e7a6-a2f916af7cd2"
      },
      "source": [
        "from pycaret.regression import *\n",
        "reg1 = setup(data = df, target = 'selling_price')\n",
        "\n",
        "#best = compare_models()\n",
        "\n",
        "#top3 = compare_models(n_select = 3)\n",
        "\n",
        "#best = compare_models(sort = 'R2') "
      ],
      "execution_count": 80,
      "outputs": [
        {
          "output_type": "stream",
          "text": [
            " \n",
            "Setup Succesfully Completed.\n"
          ],
          "name": "stdout"
        },
        {
          "output_type": "display_data",
          "data": {
            "text/html": [
              "<style  type=\"text/css\" >\n",
              "</style><table id=\"T_41bb7fea_e15c_11ea_a04e_0242ac1c0002\" ><thead>    <tr>        <th class=\"blank level0\" ></th>        <th class=\"col_heading level0 col0\" >Description</th>        <th class=\"col_heading level0 col1\" >Value</th>    </tr></thead><tbody>\n",
              "                <tr>\n",
              "                        <th id=\"T_41bb7fea_e15c_11ea_a04e_0242ac1c0002level0_row0\" class=\"row_heading level0 row0\" >0</th>\n",
              "                        <td id=\"T_41bb7fea_e15c_11ea_a04e_0242ac1c0002row0_col0\" class=\"data row0 col0\" >session_id</td>\n",
              "                        <td id=\"T_41bb7fea_e15c_11ea_a04e_0242ac1c0002row0_col1\" class=\"data row0 col1\" >1160</td>\n",
              "            </tr>\n",
              "            <tr>\n",
              "                        <th id=\"T_41bb7fea_e15c_11ea_a04e_0242ac1c0002level0_row1\" class=\"row_heading level0 row1\" >1</th>\n",
              "                        <td id=\"T_41bb7fea_e15c_11ea_a04e_0242ac1c0002row1_col0\" class=\"data row1 col0\" >Transform Target </td>\n",
              "                        <td id=\"T_41bb7fea_e15c_11ea_a04e_0242ac1c0002row1_col1\" class=\"data row1 col1\" >False</td>\n",
              "            </tr>\n",
              "            <tr>\n",
              "                        <th id=\"T_41bb7fea_e15c_11ea_a04e_0242ac1c0002level0_row2\" class=\"row_heading level0 row2\" >2</th>\n",
              "                        <td id=\"T_41bb7fea_e15c_11ea_a04e_0242ac1c0002row2_col0\" class=\"data row2 col0\" >Transform Target Method</td>\n",
              "                        <td id=\"T_41bb7fea_e15c_11ea_a04e_0242ac1c0002row2_col1\" class=\"data row2 col1\" >None</td>\n",
              "            </tr>\n",
              "            <tr>\n",
              "                        <th id=\"T_41bb7fea_e15c_11ea_a04e_0242ac1c0002level0_row3\" class=\"row_heading level0 row3\" >3</th>\n",
              "                        <td id=\"T_41bb7fea_e15c_11ea_a04e_0242ac1c0002row3_col0\" class=\"data row3 col0\" >Original Data</td>\n",
              "                        <td id=\"T_41bb7fea_e15c_11ea_a04e_0242ac1c0002row3_col1\" class=\"data row3 col1\" >(4340, 8)</td>\n",
              "            </tr>\n",
              "            <tr>\n",
              "                        <th id=\"T_41bb7fea_e15c_11ea_a04e_0242ac1c0002level0_row4\" class=\"row_heading level0 row4\" >4</th>\n",
              "                        <td id=\"T_41bb7fea_e15c_11ea_a04e_0242ac1c0002row4_col0\" class=\"data row4 col0\" >Missing Values </td>\n",
              "                        <td id=\"T_41bb7fea_e15c_11ea_a04e_0242ac1c0002row4_col1\" class=\"data row4 col1\" >False</td>\n",
              "            </tr>\n",
              "            <tr>\n",
              "                        <th id=\"T_41bb7fea_e15c_11ea_a04e_0242ac1c0002level0_row5\" class=\"row_heading level0 row5\" >5</th>\n",
              "                        <td id=\"T_41bb7fea_e15c_11ea_a04e_0242ac1c0002row5_col0\" class=\"data row5 col0\" >Numeric Features </td>\n",
              "                        <td id=\"T_41bb7fea_e15c_11ea_a04e_0242ac1c0002row5_col1\" class=\"data row5 col1\" >3</td>\n",
              "            </tr>\n",
              "            <tr>\n",
              "                        <th id=\"T_41bb7fea_e15c_11ea_a04e_0242ac1c0002level0_row6\" class=\"row_heading level0 row6\" >6</th>\n",
              "                        <td id=\"T_41bb7fea_e15c_11ea_a04e_0242ac1c0002row6_col0\" class=\"data row6 col0\" >Categorical Features </td>\n",
              "                        <td id=\"T_41bb7fea_e15c_11ea_a04e_0242ac1c0002row6_col1\" class=\"data row6 col1\" >4</td>\n",
              "            </tr>\n",
              "            <tr>\n",
              "                        <th id=\"T_41bb7fea_e15c_11ea_a04e_0242ac1c0002level0_row7\" class=\"row_heading level0 row7\" >7</th>\n",
              "                        <td id=\"T_41bb7fea_e15c_11ea_a04e_0242ac1c0002row7_col0\" class=\"data row7 col0\" >Ordinal Features </td>\n",
              "                        <td id=\"T_41bb7fea_e15c_11ea_a04e_0242ac1c0002row7_col1\" class=\"data row7 col1\" >False</td>\n",
              "            </tr>\n",
              "            <tr>\n",
              "                        <th id=\"T_41bb7fea_e15c_11ea_a04e_0242ac1c0002level0_row8\" class=\"row_heading level0 row8\" >8</th>\n",
              "                        <td id=\"T_41bb7fea_e15c_11ea_a04e_0242ac1c0002row8_col0\" class=\"data row8 col0\" >High Cardinality Features </td>\n",
              "                        <td id=\"T_41bb7fea_e15c_11ea_a04e_0242ac1c0002row8_col1\" class=\"data row8 col1\" >False</td>\n",
              "            </tr>\n",
              "            <tr>\n",
              "                        <th id=\"T_41bb7fea_e15c_11ea_a04e_0242ac1c0002level0_row9\" class=\"row_heading level0 row9\" >9</th>\n",
              "                        <td id=\"T_41bb7fea_e15c_11ea_a04e_0242ac1c0002row9_col0\" class=\"data row9 col0\" >High Cardinality Method </td>\n",
              "                        <td id=\"T_41bb7fea_e15c_11ea_a04e_0242ac1c0002row9_col1\" class=\"data row9 col1\" >None</td>\n",
              "            </tr>\n",
              "            <tr>\n",
              "                        <th id=\"T_41bb7fea_e15c_11ea_a04e_0242ac1c0002level0_row10\" class=\"row_heading level0 row10\" >10</th>\n",
              "                        <td id=\"T_41bb7fea_e15c_11ea_a04e_0242ac1c0002row10_col0\" class=\"data row10 col0\" >Sampled Data</td>\n",
              "                        <td id=\"T_41bb7fea_e15c_11ea_a04e_0242ac1c0002row10_col1\" class=\"data row10 col1\" >(4340, 8)</td>\n",
              "            </tr>\n",
              "            <tr>\n",
              "                        <th id=\"T_41bb7fea_e15c_11ea_a04e_0242ac1c0002level0_row11\" class=\"row_heading level0 row11\" >11</th>\n",
              "                        <td id=\"T_41bb7fea_e15c_11ea_a04e_0242ac1c0002row11_col0\" class=\"data row11 col0\" >Transformed Train Set</td>\n",
              "                        <td id=\"T_41bb7fea_e15c_11ea_a04e_0242ac1c0002row11_col1\" class=\"data row11 col1\" >(3037, 18)</td>\n",
              "            </tr>\n",
              "            <tr>\n",
              "                        <th id=\"T_41bb7fea_e15c_11ea_a04e_0242ac1c0002level0_row12\" class=\"row_heading level0 row12\" >12</th>\n",
              "                        <td id=\"T_41bb7fea_e15c_11ea_a04e_0242ac1c0002row12_col0\" class=\"data row12 col0\" >Transformed Test Set</td>\n",
              "                        <td id=\"T_41bb7fea_e15c_11ea_a04e_0242ac1c0002row12_col1\" class=\"data row12 col1\" >(1303, 18)</td>\n",
              "            </tr>\n",
              "            <tr>\n",
              "                        <th id=\"T_41bb7fea_e15c_11ea_a04e_0242ac1c0002level0_row13\" class=\"row_heading level0 row13\" >13</th>\n",
              "                        <td id=\"T_41bb7fea_e15c_11ea_a04e_0242ac1c0002row13_col0\" class=\"data row13 col0\" >Numeric Imputer </td>\n",
              "                        <td id=\"T_41bb7fea_e15c_11ea_a04e_0242ac1c0002row13_col1\" class=\"data row13 col1\" >mean</td>\n",
              "            </tr>\n",
              "            <tr>\n",
              "                        <th id=\"T_41bb7fea_e15c_11ea_a04e_0242ac1c0002level0_row14\" class=\"row_heading level0 row14\" >14</th>\n",
              "                        <td id=\"T_41bb7fea_e15c_11ea_a04e_0242ac1c0002row14_col0\" class=\"data row14 col0\" >Categorical Imputer </td>\n",
              "                        <td id=\"T_41bb7fea_e15c_11ea_a04e_0242ac1c0002row14_col1\" class=\"data row14 col1\" >constant</td>\n",
              "            </tr>\n",
              "            <tr>\n",
              "                        <th id=\"T_41bb7fea_e15c_11ea_a04e_0242ac1c0002level0_row15\" class=\"row_heading level0 row15\" >15</th>\n",
              "                        <td id=\"T_41bb7fea_e15c_11ea_a04e_0242ac1c0002row15_col0\" class=\"data row15 col0\" >Normalize </td>\n",
              "                        <td id=\"T_41bb7fea_e15c_11ea_a04e_0242ac1c0002row15_col1\" class=\"data row15 col1\" >False</td>\n",
              "            </tr>\n",
              "            <tr>\n",
              "                        <th id=\"T_41bb7fea_e15c_11ea_a04e_0242ac1c0002level0_row16\" class=\"row_heading level0 row16\" >16</th>\n",
              "                        <td id=\"T_41bb7fea_e15c_11ea_a04e_0242ac1c0002row16_col0\" class=\"data row16 col0\" >Normalize Method </td>\n",
              "                        <td id=\"T_41bb7fea_e15c_11ea_a04e_0242ac1c0002row16_col1\" class=\"data row16 col1\" >None</td>\n",
              "            </tr>\n",
              "            <tr>\n",
              "                        <th id=\"T_41bb7fea_e15c_11ea_a04e_0242ac1c0002level0_row17\" class=\"row_heading level0 row17\" >17</th>\n",
              "                        <td id=\"T_41bb7fea_e15c_11ea_a04e_0242ac1c0002row17_col0\" class=\"data row17 col0\" >Transformation </td>\n",
              "                        <td id=\"T_41bb7fea_e15c_11ea_a04e_0242ac1c0002row17_col1\" class=\"data row17 col1\" >False</td>\n",
              "            </tr>\n",
              "            <tr>\n",
              "                        <th id=\"T_41bb7fea_e15c_11ea_a04e_0242ac1c0002level0_row18\" class=\"row_heading level0 row18\" >18</th>\n",
              "                        <td id=\"T_41bb7fea_e15c_11ea_a04e_0242ac1c0002row18_col0\" class=\"data row18 col0\" >Transformation Method </td>\n",
              "                        <td id=\"T_41bb7fea_e15c_11ea_a04e_0242ac1c0002row18_col1\" class=\"data row18 col1\" >None</td>\n",
              "            </tr>\n",
              "            <tr>\n",
              "                        <th id=\"T_41bb7fea_e15c_11ea_a04e_0242ac1c0002level0_row19\" class=\"row_heading level0 row19\" >19</th>\n",
              "                        <td id=\"T_41bb7fea_e15c_11ea_a04e_0242ac1c0002row19_col0\" class=\"data row19 col0\" >PCA </td>\n",
              "                        <td id=\"T_41bb7fea_e15c_11ea_a04e_0242ac1c0002row19_col1\" class=\"data row19 col1\" >False</td>\n",
              "            </tr>\n",
              "            <tr>\n",
              "                        <th id=\"T_41bb7fea_e15c_11ea_a04e_0242ac1c0002level0_row20\" class=\"row_heading level0 row20\" >20</th>\n",
              "                        <td id=\"T_41bb7fea_e15c_11ea_a04e_0242ac1c0002row20_col0\" class=\"data row20 col0\" >PCA Method </td>\n",
              "                        <td id=\"T_41bb7fea_e15c_11ea_a04e_0242ac1c0002row20_col1\" class=\"data row20 col1\" >None</td>\n",
              "            </tr>\n",
              "            <tr>\n",
              "                        <th id=\"T_41bb7fea_e15c_11ea_a04e_0242ac1c0002level0_row21\" class=\"row_heading level0 row21\" >21</th>\n",
              "                        <td id=\"T_41bb7fea_e15c_11ea_a04e_0242ac1c0002row21_col0\" class=\"data row21 col0\" >PCA Components </td>\n",
              "                        <td id=\"T_41bb7fea_e15c_11ea_a04e_0242ac1c0002row21_col1\" class=\"data row21 col1\" >None</td>\n",
              "            </tr>\n",
              "            <tr>\n",
              "                        <th id=\"T_41bb7fea_e15c_11ea_a04e_0242ac1c0002level0_row22\" class=\"row_heading level0 row22\" >22</th>\n",
              "                        <td id=\"T_41bb7fea_e15c_11ea_a04e_0242ac1c0002row22_col0\" class=\"data row22 col0\" >Ignore Low Variance </td>\n",
              "                        <td id=\"T_41bb7fea_e15c_11ea_a04e_0242ac1c0002row22_col1\" class=\"data row22 col1\" >False</td>\n",
              "            </tr>\n",
              "            <tr>\n",
              "                        <th id=\"T_41bb7fea_e15c_11ea_a04e_0242ac1c0002level0_row23\" class=\"row_heading level0 row23\" >23</th>\n",
              "                        <td id=\"T_41bb7fea_e15c_11ea_a04e_0242ac1c0002row23_col0\" class=\"data row23 col0\" >Combine Rare Levels </td>\n",
              "                        <td id=\"T_41bb7fea_e15c_11ea_a04e_0242ac1c0002row23_col1\" class=\"data row23 col1\" >False</td>\n",
              "            </tr>\n",
              "            <tr>\n",
              "                        <th id=\"T_41bb7fea_e15c_11ea_a04e_0242ac1c0002level0_row24\" class=\"row_heading level0 row24\" >24</th>\n",
              "                        <td id=\"T_41bb7fea_e15c_11ea_a04e_0242ac1c0002row24_col0\" class=\"data row24 col0\" >Rare Level Threshold </td>\n",
              "                        <td id=\"T_41bb7fea_e15c_11ea_a04e_0242ac1c0002row24_col1\" class=\"data row24 col1\" >None</td>\n",
              "            </tr>\n",
              "            <tr>\n",
              "                        <th id=\"T_41bb7fea_e15c_11ea_a04e_0242ac1c0002level0_row25\" class=\"row_heading level0 row25\" >25</th>\n",
              "                        <td id=\"T_41bb7fea_e15c_11ea_a04e_0242ac1c0002row25_col0\" class=\"data row25 col0\" >Numeric Binning </td>\n",
              "                        <td id=\"T_41bb7fea_e15c_11ea_a04e_0242ac1c0002row25_col1\" class=\"data row25 col1\" >False</td>\n",
              "            </tr>\n",
              "            <tr>\n",
              "                        <th id=\"T_41bb7fea_e15c_11ea_a04e_0242ac1c0002level0_row26\" class=\"row_heading level0 row26\" >26</th>\n",
              "                        <td id=\"T_41bb7fea_e15c_11ea_a04e_0242ac1c0002row26_col0\" class=\"data row26 col0\" >Remove Outliers </td>\n",
              "                        <td id=\"T_41bb7fea_e15c_11ea_a04e_0242ac1c0002row26_col1\" class=\"data row26 col1\" >False</td>\n",
              "            </tr>\n",
              "            <tr>\n",
              "                        <th id=\"T_41bb7fea_e15c_11ea_a04e_0242ac1c0002level0_row27\" class=\"row_heading level0 row27\" >27</th>\n",
              "                        <td id=\"T_41bb7fea_e15c_11ea_a04e_0242ac1c0002row27_col0\" class=\"data row27 col0\" >Outliers Threshold </td>\n",
              "                        <td id=\"T_41bb7fea_e15c_11ea_a04e_0242ac1c0002row27_col1\" class=\"data row27 col1\" >None</td>\n",
              "            </tr>\n",
              "            <tr>\n",
              "                        <th id=\"T_41bb7fea_e15c_11ea_a04e_0242ac1c0002level0_row28\" class=\"row_heading level0 row28\" >28</th>\n",
              "                        <td id=\"T_41bb7fea_e15c_11ea_a04e_0242ac1c0002row28_col0\" class=\"data row28 col0\" >Remove Multicollinearity </td>\n",
              "                        <td id=\"T_41bb7fea_e15c_11ea_a04e_0242ac1c0002row28_col1\" class=\"data row28 col1\" >False</td>\n",
              "            </tr>\n",
              "            <tr>\n",
              "                        <th id=\"T_41bb7fea_e15c_11ea_a04e_0242ac1c0002level0_row29\" class=\"row_heading level0 row29\" >29</th>\n",
              "                        <td id=\"T_41bb7fea_e15c_11ea_a04e_0242ac1c0002row29_col0\" class=\"data row29 col0\" >Multicollinearity Threshold </td>\n",
              "                        <td id=\"T_41bb7fea_e15c_11ea_a04e_0242ac1c0002row29_col1\" class=\"data row29 col1\" >None</td>\n",
              "            </tr>\n",
              "            <tr>\n",
              "                        <th id=\"T_41bb7fea_e15c_11ea_a04e_0242ac1c0002level0_row30\" class=\"row_heading level0 row30\" >30</th>\n",
              "                        <td id=\"T_41bb7fea_e15c_11ea_a04e_0242ac1c0002row30_col0\" class=\"data row30 col0\" >Clustering </td>\n",
              "                        <td id=\"T_41bb7fea_e15c_11ea_a04e_0242ac1c0002row30_col1\" class=\"data row30 col1\" >False</td>\n",
              "            </tr>\n",
              "            <tr>\n",
              "                        <th id=\"T_41bb7fea_e15c_11ea_a04e_0242ac1c0002level0_row31\" class=\"row_heading level0 row31\" >31</th>\n",
              "                        <td id=\"T_41bb7fea_e15c_11ea_a04e_0242ac1c0002row31_col0\" class=\"data row31 col0\" >Clustering Iteration </td>\n",
              "                        <td id=\"T_41bb7fea_e15c_11ea_a04e_0242ac1c0002row31_col1\" class=\"data row31 col1\" >None</td>\n",
              "            </tr>\n",
              "            <tr>\n",
              "                        <th id=\"T_41bb7fea_e15c_11ea_a04e_0242ac1c0002level0_row32\" class=\"row_heading level0 row32\" >32</th>\n",
              "                        <td id=\"T_41bb7fea_e15c_11ea_a04e_0242ac1c0002row32_col0\" class=\"data row32 col0\" >Polynomial Features </td>\n",
              "                        <td id=\"T_41bb7fea_e15c_11ea_a04e_0242ac1c0002row32_col1\" class=\"data row32 col1\" >False</td>\n",
              "            </tr>\n",
              "            <tr>\n",
              "                        <th id=\"T_41bb7fea_e15c_11ea_a04e_0242ac1c0002level0_row33\" class=\"row_heading level0 row33\" >33</th>\n",
              "                        <td id=\"T_41bb7fea_e15c_11ea_a04e_0242ac1c0002row33_col0\" class=\"data row33 col0\" >Polynomial Degree </td>\n",
              "                        <td id=\"T_41bb7fea_e15c_11ea_a04e_0242ac1c0002row33_col1\" class=\"data row33 col1\" >None</td>\n",
              "            </tr>\n",
              "            <tr>\n",
              "                        <th id=\"T_41bb7fea_e15c_11ea_a04e_0242ac1c0002level0_row34\" class=\"row_heading level0 row34\" >34</th>\n",
              "                        <td id=\"T_41bb7fea_e15c_11ea_a04e_0242ac1c0002row34_col0\" class=\"data row34 col0\" >Trignometry Features </td>\n",
              "                        <td id=\"T_41bb7fea_e15c_11ea_a04e_0242ac1c0002row34_col1\" class=\"data row34 col1\" >False</td>\n",
              "            </tr>\n",
              "            <tr>\n",
              "                        <th id=\"T_41bb7fea_e15c_11ea_a04e_0242ac1c0002level0_row35\" class=\"row_heading level0 row35\" >35</th>\n",
              "                        <td id=\"T_41bb7fea_e15c_11ea_a04e_0242ac1c0002row35_col0\" class=\"data row35 col0\" >Polynomial Threshold </td>\n",
              "                        <td id=\"T_41bb7fea_e15c_11ea_a04e_0242ac1c0002row35_col1\" class=\"data row35 col1\" >None</td>\n",
              "            </tr>\n",
              "            <tr>\n",
              "                        <th id=\"T_41bb7fea_e15c_11ea_a04e_0242ac1c0002level0_row36\" class=\"row_heading level0 row36\" >36</th>\n",
              "                        <td id=\"T_41bb7fea_e15c_11ea_a04e_0242ac1c0002row36_col0\" class=\"data row36 col0\" >Group Features </td>\n",
              "                        <td id=\"T_41bb7fea_e15c_11ea_a04e_0242ac1c0002row36_col1\" class=\"data row36 col1\" >False</td>\n",
              "            </tr>\n",
              "            <tr>\n",
              "                        <th id=\"T_41bb7fea_e15c_11ea_a04e_0242ac1c0002level0_row37\" class=\"row_heading level0 row37\" >37</th>\n",
              "                        <td id=\"T_41bb7fea_e15c_11ea_a04e_0242ac1c0002row37_col0\" class=\"data row37 col0\" >Feature Selection </td>\n",
              "                        <td id=\"T_41bb7fea_e15c_11ea_a04e_0242ac1c0002row37_col1\" class=\"data row37 col1\" >False</td>\n",
              "            </tr>\n",
              "            <tr>\n",
              "                        <th id=\"T_41bb7fea_e15c_11ea_a04e_0242ac1c0002level0_row38\" class=\"row_heading level0 row38\" >38</th>\n",
              "                        <td id=\"T_41bb7fea_e15c_11ea_a04e_0242ac1c0002row38_col0\" class=\"data row38 col0\" >Features Selection Threshold </td>\n",
              "                        <td id=\"T_41bb7fea_e15c_11ea_a04e_0242ac1c0002row38_col1\" class=\"data row38 col1\" >None</td>\n",
              "            </tr>\n",
              "            <tr>\n",
              "                        <th id=\"T_41bb7fea_e15c_11ea_a04e_0242ac1c0002level0_row39\" class=\"row_heading level0 row39\" >39</th>\n",
              "                        <td id=\"T_41bb7fea_e15c_11ea_a04e_0242ac1c0002row39_col0\" class=\"data row39 col0\" >Feature Interaction </td>\n",
              "                        <td id=\"T_41bb7fea_e15c_11ea_a04e_0242ac1c0002row39_col1\" class=\"data row39 col1\" >False</td>\n",
              "            </tr>\n",
              "            <tr>\n",
              "                        <th id=\"T_41bb7fea_e15c_11ea_a04e_0242ac1c0002level0_row40\" class=\"row_heading level0 row40\" >40</th>\n",
              "                        <td id=\"T_41bb7fea_e15c_11ea_a04e_0242ac1c0002row40_col0\" class=\"data row40 col0\" >Feature Ratio </td>\n",
              "                        <td id=\"T_41bb7fea_e15c_11ea_a04e_0242ac1c0002row40_col1\" class=\"data row40 col1\" >False</td>\n",
              "            </tr>\n",
              "            <tr>\n",
              "                        <th id=\"T_41bb7fea_e15c_11ea_a04e_0242ac1c0002level0_row41\" class=\"row_heading level0 row41\" >41</th>\n",
              "                        <td id=\"T_41bb7fea_e15c_11ea_a04e_0242ac1c0002row41_col0\" class=\"data row41 col0\" >Interaction Threshold </td>\n",
              "                        <td id=\"T_41bb7fea_e15c_11ea_a04e_0242ac1c0002row41_col1\" class=\"data row41 col1\" >None</td>\n",
              "            </tr>\n",
              "    </tbody></table>"
            ],
            "text/plain": [
              "<pandas.io.formats.style.Styler at 0x7fac2e625a90>"
            ]
          },
          "metadata": {
            "tags": []
          }
        }
      ]
    },
    {
      "cell_type": "code",
      "metadata": {
        "id": "ZNAnWEFmIrg3",
        "colab_type": "code",
        "colab": {
          "base_uri": "https://localhost:8080/",
          "height": 278,
          "referenced_widgets": [
            "71c5fd20a21649b490bbe64b56afdd96",
            "b0b60786f6374b529873be9ff777526d",
            "e5613ee17a534490bb392b34a9d6fc9a"
          ]
        },
        "outputId": "35fbffa2-86d3-493c-baed-a56c81649c27"
      },
      "source": [
        "lgbm = create_model('lightgbm', learning_rate = 0.1)"
      ],
      "execution_count": 81,
      "outputs": [
        {
          "output_type": "display_data",
          "data": {
            "text/html": [
              "<style  type=\"text/css\" >\n",
              "    #T_42b2cd90_e15c_11ea_a04e_0242ac1c0002row10_col0 {\n",
              "            background:  yellow;\n",
              "        }    #T_42b2cd90_e15c_11ea_a04e_0242ac1c0002row10_col1 {\n",
              "            background:  yellow;\n",
              "        }    #T_42b2cd90_e15c_11ea_a04e_0242ac1c0002row10_col2 {\n",
              "            background:  yellow;\n",
              "        }    #T_42b2cd90_e15c_11ea_a04e_0242ac1c0002row10_col3 {\n",
              "            background:  yellow;\n",
              "        }    #T_42b2cd90_e15c_11ea_a04e_0242ac1c0002row10_col4 {\n",
              "            background:  yellow;\n",
              "        }    #T_42b2cd90_e15c_11ea_a04e_0242ac1c0002row10_col5 {\n",
              "            background:  yellow;\n",
              "        }</style><table id=\"T_42b2cd90_e15c_11ea_a04e_0242ac1c0002\" ><thead>    <tr>        <th class=\"blank level0\" ></th>        <th class=\"col_heading level0 col0\" >MAE</th>        <th class=\"col_heading level0 col1\" >MSE</th>        <th class=\"col_heading level0 col2\" >RMSE</th>        <th class=\"col_heading level0 col3\" >R2</th>        <th class=\"col_heading level0 col4\" >RMSLE</th>        <th class=\"col_heading level0 col5\" >MAPE</th>    </tr></thead><tbody>\n",
              "                <tr>\n",
              "                        <th id=\"T_42b2cd90_e15c_11ea_a04e_0242ac1c0002level0_row0\" class=\"row_heading level0 row0\" >0</th>\n",
              "                        <td id=\"T_42b2cd90_e15c_11ea_a04e_0242ac1c0002row0_col0\" class=\"data row0 col0\" >112421.2636</td>\n",
              "                        <td id=\"T_42b2cd90_e15c_11ea_a04e_0242ac1c0002row0_col1\" class=\"data row0 col1\" >52858780017.1626</td>\n",
              "                        <td id=\"T_42b2cd90_e15c_11ea_a04e_0242ac1c0002row0_col2\" class=\"data row0 col2\" >229910.3739</td>\n",
              "                        <td id=\"T_42b2cd90_e15c_11ea_a04e_0242ac1c0002row0_col3\" class=\"data row0 col3\" >0.8051</td>\n",
              "                        <td id=\"T_42b2cd90_e15c_11ea_a04e_0242ac1c0002row0_col4\" class=\"data row0 col4\" >0.3629</td>\n",
              "                        <td id=\"T_42b2cd90_e15c_11ea_a04e_0242ac1c0002row0_col5\" class=\"data row0 col5\" >0.3051</td>\n",
              "            </tr>\n",
              "            <tr>\n",
              "                        <th id=\"T_42b2cd90_e15c_11ea_a04e_0242ac1c0002level0_row1\" class=\"row_heading level0 row1\" >1</th>\n",
              "                        <td id=\"T_42b2cd90_e15c_11ea_a04e_0242ac1c0002row1_col0\" class=\"data row1 col0\" >126666.2020</td>\n",
              "                        <td id=\"T_42b2cd90_e15c_11ea_a04e_0242ac1c0002row1_col1\" class=\"data row1 col1\" >105409633788.3960</td>\n",
              "                        <td id=\"T_42b2cd90_e15c_11ea_a04e_0242ac1c0002row1_col2\" class=\"data row1 col2\" >324668.4983</td>\n",
              "                        <td id=\"T_42b2cd90_e15c_11ea_a04e_0242ac1c0002row1_col3\" class=\"data row1 col3\" >0.6761</td>\n",
              "                        <td id=\"T_42b2cd90_e15c_11ea_a04e_0242ac1c0002row1_col4\" class=\"data row1 col4\" >0.3661</td>\n",
              "                        <td id=\"T_42b2cd90_e15c_11ea_a04e_0242ac1c0002row1_col5\" class=\"data row1 col5\" >0.2848</td>\n",
              "            </tr>\n",
              "            <tr>\n",
              "                        <th id=\"T_42b2cd90_e15c_11ea_a04e_0242ac1c0002level0_row2\" class=\"row_heading level0 row2\" >2</th>\n",
              "                        <td id=\"T_42b2cd90_e15c_11ea_a04e_0242ac1c0002row2_col0\" class=\"data row2 col0\" >131111.4774</td>\n",
              "                        <td id=\"T_42b2cd90_e15c_11ea_a04e_0242ac1c0002row2_col1\" class=\"data row2 col1\" >52772207966.5815</td>\n",
              "                        <td id=\"T_42b2cd90_e15c_11ea_a04e_0242ac1c0002row2_col2\" class=\"data row2 col2\" >229722.0233</td>\n",
              "                        <td id=\"T_42b2cd90_e15c_11ea_a04e_0242ac1c0002row2_col3\" class=\"data row2 col3\" >0.8770</td>\n",
              "                        <td id=\"T_42b2cd90_e15c_11ea_a04e_0242ac1c0002row2_col4\" class=\"data row2 col4\" >0.3347</td>\n",
              "                        <td id=\"T_42b2cd90_e15c_11ea_a04e_0242ac1c0002row2_col5\" class=\"data row2 col5\" >0.2755</td>\n",
              "            </tr>\n",
              "            <tr>\n",
              "                        <th id=\"T_42b2cd90_e15c_11ea_a04e_0242ac1c0002level0_row3\" class=\"row_heading level0 row3\" >3</th>\n",
              "                        <td id=\"T_42b2cd90_e15c_11ea_a04e_0242ac1c0002row3_col0\" class=\"data row3 col0\" >123755.6550</td>\n",
              "                        <td id=\"T_42b2cd90_e15c_11ea_a04e_0242ac1c0002row3_col1\" class=\"data row3 col1\" >48726883338.6437</td>\n",
              "                        <td id=\"T_42b2cd90_e15c_11ea_a04e_0242ac1c0002row3_col2\" class=\"data row3 col2\" >220741.6665</td>\n",
              "                        <td id=\"T_42b2cd90_e15c_11ea_a04e_0242ac1c0002row3_col3\" class=\"data row3 col3\" >0.7808</td>\n",
              "                        <td id=\"T_42b2cd90_e15c_11ea_a04e_0242ac1c0002row3_col4\" class=\"data row3 col4\" >0.3464</td>\n",
              "                        <td id=\"T_42b2cd90_e15c_11ea_a04e_0242ac1c0002row3_col5\" class=\"data row3 col5\" >0.3092</td>\n",
              "            </tr>\n",
              "            <tr>\n",
              "                        <th id=\"T_42b2cd90_e15c_11ea_a04e_0242ac1c0002level0_row4\" class=\"row_heading level0 row4\" >4</th>\n",
              "                        <td id=\"T_42b2cd90_e15c_11ea_a04e_0242ac1c0002row4_col0\" class=\"data row4 col0\" >100561.8530</td>\n",
              "                        <td id=\"T_42b2cd90_e15c_11ea_a04e_0242ac1c0002row4_col1\" class=\"data row4 col1\" >32924724957.0426</td>\n",
              "                        <td id=\"T_42b2cd90_e15c_11ea_a04e_0242ac1c0002row4_col2\" class=\"data row4 col2\" >181451.7152</td>\n",
              "                        <td id=\"T_42b2cd90_e15c_11ea_a04e_0242ac1c0002row4_col3\" class=\"data row4 col3\" >0.8556</td>\n",
              "                        <td id=\"T_42b2cd90_e15c_11ea_a04e_0242ac1c0002row4_col4\" class=\"data row4 col4\" >0.3078</td>\n",
              "                        <td id=\"T_42b2cd90_e15c_11ea_a04e_0242ac1c0002row4_col5\" class=\"data row4 col5\" >0.2515</td>\n",
              "            </tr>\n",
              "            <tr>\n",
              "                        <th id=\"T_42b2cd90_e15c_11ea_a04e_0242ac1c0002level0_row5\" class=\"row_heading level0 row5\" >5</th>\n",
              "                        <td id=\"T_42b2cd90_e15c_11ea_a04e_0242ac1c0002row5_col0\" class=\"data row5 col0\" >129926.6033</td>\n",
              "                        <td id=\"T_42b2cd90_e15c_11ea_a04e_0242ac1c0002row5_col1\" class=\"data row5 col1\" >63605453764.1771</td>\n",
              "                        <td id=\"T_42b2cd90_e15c_11ea_a04e_0242ac1c0002row5_col2\" class=\"data row5 col2\" >252201.2168</td>\n",
              "                        <td id=\"T_42b2cd90_e15c_11ea_a04e_0242ac1c0002row5_col3\" class=\"data row5 col3\" >0.7643</td>\n",
              "                        <td id=\"T_42b2cd90_e15c_11ea_a04e_0242ac1c0002row5_col4\" class=\"data row5 col4\" >0.3581</td>\n",
              "                        <td id=\"T_42b2cd90_e15c_11ea_a04e_0242ac1c0002row5_col5\" class=\"data row5 col5\" >0.2974</td>\n",
              "            </tr>\n",
              "            <tr>\n",
              "                        <th id=\"T_42b2cd90_e15c_11ea_a04e_0242ac1c0002level0_row6\" class=\"row_heading level0 row6\" >6</th>\n",
              "                        <td id=\"T_42b2cd90_e15c_11ea_a04e_0242ac1c0002row6_col0\" class=\"data row6 col0\" >109864.2114</td>\n",
              "                        <td id=\"T_42b2cd90_e15c_11ea_a04e_0242ac1c0002row6_col1\" class=\"data row6 col1\" >69179606567.7675</td>\n",
              "                        <td id=\"T_42b2cd90_e15c_11ea_a04e_0242ac1c0002row6_col2\" class=\"data row6 col2\" >263020.1638</td>\n",
              "                        <td id=\"T_42b2cd90_e15c_11ea_a04e_0242ac1c0002row6_col3\" class=\"data row6 col3\" >0.6978</td>\n",
              "                        <td id=\"T_42b2cd90_e15c_11ea_a04e_0242ac1c0002row6_col4\" class=\"data row6 col4\" >0.3784</td>\n",
              "                        <td id=\"T_42b2cd90_e15c_11ea_a04e_0242ac1c0002row6_col5\" class=\"data row6 col5\" >0.2997</td>\n",
              "            </tr>\n",
              "            <tr>\n",
              "                        <th id=\"T_42b2cd90_e15c_11ea_a04e_0242ac1c0002level0_row7\" class=\"row_heading level0 row7\" >7</th>\n",
              "                        <td id=\"T_42b2cd90_e15c_11ea_a04e_0242ac1c0002row7_col0\" class=\"data row7 col0\" >111270.4982</td>\n",
              "                        <td id=\"T_42b2cd90_e15c_11ea_a04e_0242ac1c0002row7_col1\" class=\"data row7 col1\" >47263578756.1626</td>\n",
              "                        <td id=\"T_42b2cd90_e15c_11ea_a04e_0242ac1c0002row7_col2\" class=\"data row7 col2\" >217401.8831</td>\n",
              "                        <td id=\"T_42b2cd90_e15c_11ea_a04e_0242ac1c0002row7_col3\" class=\"data row7 col3\" >0.8368</td>\n",
              "                        <td id=\"T_42b2cd90_e15c_11ea_a04e_0242ac1c0002row7_col4\" class=\"data row7 col4\" >0.3538</td>\n",
              "                        <td id=\"T_42b2cd90_e15c_11ea_a04e_0242ac1c0002row7_col5\" class=\"data row7 col5\" >0.3108</td>\n",
              "            </tr>\n",
              "            <tr>\n",
              "                        <th id=\"T_42b2cd90_e15c_11ea_a04e_0242ac1c0002level0_row8\" class=\"row_heading level0 row8\" >8</th>\n",
              "                        <td id=\"T_42b2cd90_e15c_11ea_a04e_0242ac1c0002row8_col0\" class=\"data row8 col0\" >111553.9538</td>\n",
              "                        <td id=\"T_42b2cd90_e15c_11ea_a04e_0242ac1c0002row8_col1\" class=\"data row8 col1\" >33845049498.5239</td>\n",
              "                        <td id=\"T_42b2cd90_e15c_11ea_a04e_0242ac1c0002row8_col2\" class=\"data row8 col2\" >183970.2408</td>\n",
              "                        <td id=\"T_42b2cd90_e15c_11ea_a04e_0242ac1c0002row8_col3\" class=\"data row8 col3\" >0.8453</td>\n",
              "                        <td id=\"T_42b2cd90_e15c_11ea_a04e_0242ac1c0002row8_col4\" class=\"data row8 col4\" >0.3731</td>\n",
              "                        <td id=\"T_42b2cd90_e15c_11ea_a04e_0242ac1c0002row8_col5\" class=\"data row8 col5\" >0.2929</td>\n",
              "            </tr>\n",
              "            <tr>\n",
              "                        <th id=\"T_42b2cd90_e15c_11ea_a04e_0242ac1c0002level0_row9\" class=\"row_heading level0 row9\" >9</th>\n",
              "                        <td id=\"T_42b2cd90_e15c_11ea_a04e_0242ac1c0002row9_col0\" class=\"data row9 col0\" >107434.0445</td>\n",
              "                        <td id=\"T_42b2cd90_e15c_11ea_a04e_0242ac1c0002row9_col1\" class=\"data row9 col1\" >28953054311.0055</td>\n",
              "                        <td id=\"T_42b2cd90_e15c_11ea_a04e_0242ac1c0002row9_col2\" class=\"data row9 col2\" >170155.9705</td>\n",
              "                        <td id=\"T_42b2cd90_e15c_11ea_a04e_0242ac1c0002row9_col3\" class=\"data row9 col3\" >0.8956</td>\n",
              "                        <td id=\"T_42b2cd90_e15c_11ea_a04e_0242ac1c0002row9_col4\" class=\"data row9 col4\" >0.3557</td>\n",
              "                        <td id=\"T_42b2cd90_e15c_11ea_a04e_0242ac1c0002row9_col5\" class=\"data row9 col5\" >0.2764</td>\n",
              "            </tr>\n",
              "            <tr>\n",
              "                        <th id=\"T_42b2cd90_e15c_11ea_a04e_0242ac1c0002level0_row10\" class=\"row_heading level0 row10\" >Mean</th>\n",
              "                        <td id=\"T_42b2cd90_e15c_11ea_a04e_0242ac1c0002row10_col0\" class=\"data row10 col0\" >116456.5762</td>\n",
              "                        <td id=\"T_42b2cd90_e15c_11ea_a04e_0242ac1c0002row10_col1\" class=\"data row10 col1\" >53553897296.5463</td>\n",
              "                        <td id=\"T_42b2cd90_e15c_11ea_a04e_0242ac1c0002row10_col2\" class=\"data row10 col2\" >227324.3752</td>\n",
              "                        <td id=\"T_42b2cd90_e15c_11ea_a04e_0242ac1c0002row10_col3\" class=\"data row10 col3\" >0.8034</td>\n",
              "                        <td id=\"T_42b2cd90_e15c_11ea_a04e_0242ac1c0002row10_col4\" class=\"data row10 col4\" >0.3537</td>\n",
              "                        <td id=\"T_42b2cd90_e15c_11ea_a04e_0242ac1c0002row10_col5\" class=\"data row10 col5\" >0.2903</td>\n",
              "            </tr>\n",
              "            <tr>\n",
              "                        <th id=\"T_42b2cd90_e15c_11ea_a04e_0242ac1c0002level0_row11\" class=\"row_heading level0 row11\" >SD</th>\n",
              "                        <td id=\"T_42b2cd90_e15c_11ea_a04e_0242ac1c0002row11_col0\" class=\"data row11 col0\" >9992.2130</td>\n",
              "                        <td id=\"T_42b2cd90_e15c_11ea_a04e_0242ac1c0002row11_col1\" class=\"data row11 col1\" >21254127341.8379</td>\n",
              "                        <td id=\"T_42b2cd90_e15c_11ea_a04e_0242ac1c0002row11_col2\" class=\"data row11 col2\" >43330.4250</td>\n",
              "                        <td id=\"T_42b2cd90_e15c_11ea_a04e_0242ac1c0002row11_col3\" class=\"data row11 col3\" >0.0699</td>\n",
              "                        <td id=\"T_42b2cd90_e15c_11ea_a04e_0242ac1c0002row11_col4\" class=\"data row11 col4\" >0.0194</td>\n",
              "                        <td id=\"T_42b2cd90_e15c_11ea_a04e_0242ac1c0002row11_col5\" class=\"data row11 col5\" >0.0176</td>\n",
              "            </tr>\n",
              "    </tbody></table>"
            ],
            "text/plain": [
              "<pandas.io.formats.style.Styler at 0x7fac2e63c2e8>"
            ]
          },
          "metadata": {
            "tags": []
          }
        }
      ]
    },
    {
      "cell_type": "code",
      "metadata": {
        "id": "dbTnkKlPn7g3",
        "colab_type": "code",
        "colab": {
          "base_uri": "https://localhost:8080/",
          "height": 349
        },
        "outputId": "474ede39-7895-46ee-c239-f1b8b2a1e4eb"
      },
      "source": [
        "plot_model(lgbm,plot='feature')"
      ],
      "execution_count": 82,
      "outputs": [
        {
          "output_type": "display_data",
          "data": {
            "image/png": "[encoded data removed]",
            "text/plain": [
              "<Figure size 576x360 with 1 Axes>"
            ]
          },
          "metadata": {
            "tags": []
          }
        }
      ]
    },
    {
      "cell_type": "code",
      "metadata": {
        "id": "CZkr_BU9xGXB",
        "colab_type": "code",
        "colab": {
          "base_uri": "https://localhost:8080/",
          "height": 378,
          "referenced_widgets": [
            "867a4b2191e444ac9a4f026fd202a520"
          ]
        },
        "outputId": "dfa2788e-0006-4cb8-a876-a7e3f75f4a57"
      },
      "source": [
        "plot_model(lgbm,plot='error')"
      ],
      "execution_count": 83,
      "outputs": [
        {
          "output_type": "display_data",
          "data": {
            "image/png": "[encoded data removed]",
            "text/plain": [
              "<Figure size 576x396 with 1 Axes>"
            ]
          },
          "metadata": {
            "tags": []
          }
        }
      ]
    },
    {
      "cell_type": "code",
      "metadata": {
        "id": "fJm3bTe2xIgv",
        "colab_type": "code",
        "colab": {
          "base_uri": "https://localhost:8080/",
          "height": 376,
          "referenced_widgets": [
            "01b5180c0be2464ab343cafdc43dd2a3",
            "f427a77b55594e72b7a0ea62219ae908",
            "5ad880ebc9104ce69a4f6a57e9cb81c1"
          ]
        },
        "outputId": "4adca958-8475-4d92-d671-fd44f0ae8cde"
      },
      "source": [
        "plot_model(lgbm,plot='vc')"
      ],
      "execution_count": 84,
      "outputs": [
        {
          "output_type": "display_data",
          "data": {
            "image/png": "[encoded data removed]",
            "text/plain": [
              "<Figure size 576x396 with 1 Axes>"
            ]
          },
          "metadata": {
            "tags": []
          }
        }
      ]
    },
    {
      "cell_type": "code",
      "metadata": {
        "id": "lfNJO07GxMeU",
        "colab_type": "code",
        "colab": {
          "base_uri": "https://localhost:8080/",
          "height": 376,
          "referenced_widgets": [
            "44e3fc4ca40f4007a6b9363cbc32074c",
            "eab28d93def1455f99011579f67097fb",
            "9477773564a249549c0ad2b810685b46"
          ]
        },
        "outputId": "b2fba657-128c-417c-e1a8-9426190d5fbd"
      },
      "source": [
        "plot_model(lgbm,plot='learning')"
      ],
      "execution_count": 85,
      "outputs": [
        {
          "output_type": "display_data",
          "data": {
            "image/png": "[encoded data removed]",
            "text/plain": [
              "<Figure size 576x396 with 1 Axes>"
            ]
          },
          "metadata": {
            "tags": []
          }
        }
      ]
    },
    {
      "cell_type": "code",
      "metadata": {
        "id": "11NswreFpQy8",
        "colab_type": "code",
        "colab": {}
      },
      "source": [
        "X_train,X_test,Y_train,Y_test = train_test_split(x, y, test_size=0.3, random_state=42)"
      ],
      "execution_count": 86,
      "outputs": []
    },
    {
      "cell_type": "code",
      "metadata": {
        "id": "yB52bPulS0qT",
        "colab_type": "code",
        "colab": {
          "base_uri": "https://localhost:8080/",
          "height": 118
        },
        "outputId": "b25bceee-1647-435e-a899-7e190abaa182"
      },
      "source": [
        "lgbm.fit(X_train,Y_train)"
      ],
      "execution_count": 87,
      "outputs": [
        {
          "output_type": "execute_result",
          "data": {
            "text/plain": [
              "LGBMRegressor(boosting_type='gbdt', class_weight=None, colsample_bytree=1.0,\n",
              "              importance_type='split', learning_rate=0.1, max_depth=-1,\n",
              "              min_child_samples=20, min_child_weight=0.001, min_split_gain=0.0,\n",
              "              n_estimators=100, n_jobs=-1, num_leaves=31, objective=None,\n",
              "              random_state=1160, reg_alpha=0.0, reg_lambda=0.0, silent=True,\n",
              "              subsample=1.0, subsample_for_bin=200000, subsample_freq=0)"
            ]
          },
          "metadata": {
            "tags": []
          },
          "execution_count": 87
        }
      ]
    },
    {
      "cell_type": "code",
      "metadata": {
        "id": "M9c6T0-FTKMZ",
        "colab_type": "code",
        "colab": {}
      },
      "source": [
        "pred = lgbm.predict(X_test)"
      ],
      "execution_count": 88,
      "outputs": []
    },
    {
      "cell_type": "code",
      "metadata": {
        "id": "CweSUBGcXypG",
        "colab_type": "code",
        "colab": {}
      },
      "source": [
        "#pk.dump(lgbm,open(\"moh_model.sav\",\"wb\"))"
      ],
      "execution_count": 89,
      "outputs": []
    },
    {
      "cell_type": "code",
      "metadata": {
        "id": "TV0cysnHO2sG",
        "colab_type": "code",
        "colab": {
          "base_uri": "https://localhost:8080/",
          "height": 195
        },
        "outputId": "8c0960ee-b38e-4c26-d4cd-2275975ff3a3"
      },
      "source": [
        "df.head()"
      ],
      "execution_count": 91,
      "outputs": [
        {
          "output_type": "execute_result",
          "data": {
            "text/html": [
              "<div>\n",
              "<style scoped>\n",
              "    .dataframe tbody tr th:only-of-type {\n",
              "        vertical-align: middle;\n",
              "    }\n",
              "\n",
              "    .dataframe tbody tr th {\n",
              "        vertical-align: top;\n",
              "    }\n",
              "\n",
              "    .dataframe thead th {\n",
              "        text-align: right;\n",
              "    }\n",
              "</style>\n",
              "<table border=\"1\" class=\"dataframe\">\n",
              "  <thead>\n",
              "    <tr style=\"text-align: right;\">\n",
              "      <th></th>\n",
              "      <th>name</th>\n",
              "      <th>year</th>\n",
              "      <th>selling_price</th>\n",
              "      <th>km_driven</th>\n",
              "      <th>fuel</th>\n",
              "      <th>seller_type</th>\n",
              "      <th>transmission</th>\n",
              "      <th>owner</th>\n",
              "    </tr>\n",
              "  </thead>\n",
              "  <tbody>\n",
              "    <tr>\n",
              "      <th>0</th>\n",
              "      <td>775</td>\n",
              "      <td>2007</td>\n",
              "      <td>60000</td>\n",
              "      <td>70000</td>\n",
              "      <td>4</td>\n",
              "      <td>1</td>\n",
              "      <td>1</td>\n",
              "      <td>0</td>\n",
              "    </tr>\n",
              "    <tr>\n",
              "      <th>1</th>\n",
              "      <td>1041</td>\n",
              "      <td>2007</td>\n",
              "      <td>135000</td>\n",
              "      <td>50000</td>\n",
              "      <td>4</td>\n",
              "      <td>1</td>\n",
              "      <td>1</td>\n",
              "      <td>0</td>\n",
              "    </tr>\n",
              "    <tr>\n",
              "      <th>2</th>\n",
              "      <td>505</td>\n",
              "      <td>2012</td>\n",
              "      <td>600000</td>\n",
              "      <td>100000</td>\n",
              "      <td>1</td>\n",
              "      <td>1</td>\n",
              "      <td>1</td>\n",
              "      <td>0</td>\n",
              "    </tr>\n",
              "    <tr>\n",
              "      <th>3</th>\n",
              "      <td>118</td>\n",
              "      <td>2017</td>\n",
              "      <td>250000</td>\n",
              "      <td>46000</td>\n",
              "      <td>4</td>\n",
              "      <td>1</td>\n",
              "      <td>1</td>\n",
              "      <td>0</td>\n",
              "    </tr>\n",
              "    <tr>\n",
              "      <th>4</th>\n",
              "      <td>279</td>\n",
              "      <td>2014</td>\n",
              "      <td>450000</td>\n",
              "      <td>141000</td>\n",
              "      <td>1</td>\n",
              "      <td>1</td>\n",
              "      <td>1</td>\n",
              "      <td>2</td>\n",
              "    </tr>\n",
              "  </tbody>\n",
              "</table>\n",
              "</div>"
            ],
            "text/plain": [
              "   name  year  selling_price  km_driven  fuel  seller_type  transmission  owner\n",
              "0   775  2007          60000      70000     4            1             1      0\n",
              "1  1041  2007         135000      50000     4            1             1      0\n",
              "2   505  2012         600000     100000     1            1             1      0\n",
              "3   118  2017         250000      46000     4            1             1      0\n",
              "4   279  2014         450000     141000     1            1             1      2"
            ]
          },
          "metadata": {
            "tags": []
          },
          "execution_count": 91
        }
      ]
    },
    {
      "cell_type": "code",
      "metadata": {
        "id": "9GB1yt8IfYGe",
        "colab_type": "code",
        "colab": {}
      },
      "source": [
        "scores = cross_val_score(lgbm , x, y,cv=5)"
      ],
      "execution_count": 92,
      "outputs": []
    },
    {
      "cell_type": "code",
      "metadata": {
        "id": "VBWMMefrflT8",
        "colab_type": "code",
        "colab": {
          "base_uri": "https://localhost:8080/",
          "height": 34
        },
        "outputId": "f94c654f-25d2-4687-f931-58c21d4baf0f"
      },
      "source": [
        "final_score = sum(scores)/len(scores)\n",
        "final_score"
      ],
      "execution_count": 93,
      "outputs": [
        {
          "output_type": "execute_result",
          "data": {
            "text/plain": [
              "0.8014156481793986"
            ]
          },
          "metadata": {
            "tags": []
          },
          "execution_count": 93
        }
      ]
    },
    {
      "cell_type": "code",
      "metadata": {
        "id": "6XFXEfwPs5fF",
        "colab_type": "code",
        "colab": {
          "base_uri": "https://localhost:8080/",
          "height": 375
        },
        "outputId": "04bdd6a2-4d82-4c3d-c6ff-196a2e989bfd"
      },
      "source": [
        "plt.plot(pred,Y_test,\".\")\n",
        "\n",
        "plt.title(\"Actual-Predicted Values\")\n",
        "plt.show()"
      ],
      "execution_count": 94,
      "outputs": [
        {
          "output_type": "display_data",
          "data": {
            "image/png": "[encoded data removed]",
            "text/plain": [
              "<Figure size 576x396 with 1 Axes>"
            ]
          },
          "metadata": {
            "tags": []
          }
        }
      ]
    }
  ]
}